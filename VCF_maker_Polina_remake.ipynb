{
 "cells": [
  {
   "cell_type": "code",
   "execution_count": null,
   "id": "2f85533a",
   "metadata": {},
   "outputs": [],
   "source": []
  },
  {
   "cell_type": "code",
   "execution_count": 8,
   "id": "c762976f",
   "metadata": {},
   "outputs": [
    {
     "name": "stdout",
     "output_type": "stream",
     "text": [
      "chr1 10801585 G\n",
      "chr1 10802252 G\n",
      "chr1 10802849 C\n",
      "chr1 10831584 GA\n",
      "chr1 10831714 TTCC\n",
      "chr1 10842566 G\n",
      "chr1 10845107 T\n",
      "chr1 10845114 G\n",
      "chr1 10845116 C\n",
      "chr1 10845538 T\n",
      "chr1 10847340 T\n",
      "chr1 10849425 G\n",
      "chr1 10856513 TG\n",
      "chr1 10856517 G\n",
      "chr1 10884459 A\n",
      "chr1 10890704 C\n"
     ]
    }
   ],
   "source": [
    "import pandas as pd\n",
    "import numpy as np\n",
    "import random\n",
    "import vcf\n",
    "from math import ceil\n",
    "import pysam\n",
    "\n",
    "def VCF_maker(path_to_VCF, chrom, start, end, K, N):\n",
    "    reader = vcf.Reader(filename=)\n",
    "    reader.fetch(chrom,start=start,end=end)\n",
    "    found_variants=[]\n",
    "    for record in reader:\n",
    "        line = [record.CHROM, record.POS, record.REF]\n",
    "        line += [alt.value for alt in record.ALT]\n",
    "        print(line)\n",
    "        found_variants.append(record)\n",
    "        print(found_variants)\n",
    "    random.shuffle(found_variants)\n",
    "    \n",
    "    if N==None:\n",
    "        N=ceil(len(found_variants)/K) \n",
    "    count=0\n",
    "    if N>ceil(len(found_variants)/K):\n",
    "        print(f'Найденное количество вариантов {len(found_variants)} не получится разбить по {N} штук в {K} vcf файлов')\n",
    "        print(f'Будет уменьшено количество генерируемых vcf файлов c {K} до { }')\n",
    "        \n",
    "    else:\n",
    "        for i in range(N):\n",
    "            print(i)\n",
    "            writer = vcf.Writer(open(f'output{i}.vcf', 'a'))\n",
    "            for variant in found_variants[i:i+1]:\n",
    "                writer.write_record(variant)\n",
    "            count+=1\n",
    "            if count == K:\n",
    "                break\n",
    "    \n",
    "            \n",
    "VCF_maker('GSM4887638_D6.vcf.gz','chr1',10800000,10900000,1,1)"
   ]
  },
  {
   "cell_type": "code",
   "execution_count": null,
   "id": "27981ce6",
   "metadata": {},
   "outputs": [],
   "source": [
    "import pandas as pd\n",
    "import numpy as np\n",
    "import random\n",
    "import vcfpy\n",
    "from math import ceil\n",
    "def VCF_maker(path_to_VCF, chrom, start, end, N, K):\n",
    "    reader = vcfpy.Reader.from_path(path_to_VCF)\n",
    "    reader.fetch(chrom)\n",
    "    header = ['#CHROM', 'POS', 'REF', 'ALT'] + reader.header.samples.names\n",
    "    found_variants=[]\n",
    "    for record in reader:\n",
    "        line = [record.CHROM, record.POS, record.REF]\n",
    "        line += [alt.value for alt in record.ALT]\n",
    "        print(line)\n",
    "        found_variants.append(record)\n",
    "        print(found_variants)\n",
    "\n",
    "    random.shuffle(found_variants)\n",
    "    \n",
    "    if N==None:\n",
    "        N=ceil(len(selected_variants)/k)\n",
    "        \n",
    "    count=0\n",
    "    for i in range(N):\n",
    "        print(i)\n",
    "        writer = vcfpy.Writer.from_path(f'output{i}.vcf', reader.header)\n",
    "        for variant in found_variants[i:i+1]:\n",
    "            writer.write_record(variant)\n",
    "        count+=1\n",
    "        if count == K:\n",
    "            break\n",
    "            \n",
    "VCF_maker('GSM4887638_D6.vcf','chr1',10800000,10900000,100,10)\n",
    "    \n",
    "    \n",
    "    "
   ]
  },
  {
   "cell_type": "code",
   "execution_count": 6,
   "id": "46835a6e",
   "metadata": {},
   "outputs": [],
   "source": [
    "!bgzip -c GSM4887638_D6.vcf > GSM4887638_D6.vcf.gz\n",
    "!tabix -p vcf GSM4887638_D6.vcf.gz"
   ]
  },
  {
   "cell_type": "code",
   "execution_count": null,
   "id": "666c86f7",
   "metadata": {},
   "outputs": [],
   "source": []
  }
 ],
 "metadata": {
  "kernelspec": {
   "display_name": "Python 3 (ipykernel)",
   "language": "python",
   "name": "python3"
  },
  "language_info": {
   "codemirror_mode": {
    "name": "ipython",
    "version": 3
   },
   "file_extension": ".py",
   "mimetype": "text/x-python",
   "name": "python",
   "nbconvert_exporter": "python",
   "pygments_lexer": "ipython3",
   "version": "3.9.18"
  }
 },
 "nbformat": 4,
 "nbformat_minor": 5
}
